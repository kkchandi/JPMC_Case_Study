{
 "cells": [
  {
   "cell_type": "markdown",
   "id": "7f765ee5",
   "metadata": {},
   "source": [
    "# JPMC QR Mentorship - Case Study 1\n",
    "## Khushmeet Chandi\n",
    "\n",
    "This notebook is specific to NVIDIA Corporation (\"NVDA\") between January 1, 2020, to January 1, 2024. The stock ticker symbol and date range can be changed. This notebook serves to provide a framework to begin analyzing stocks and take a first attempt at answering the guidance questions. "
   ]
  },
  {
   "cell_type": "code",
   "execution_count": null,
   "id": "a59532fa",
   "metadata": {},
   "outputs": [],
   "source": [
    "import yfinance as yf\n",
    "import pandas as pd\n",
    "import numpy as np\n",
    "import matplotlib.pyplot as plt\n",
    "import pandas as pd\n",
    "import torch\n",
    "import torch.nn as nn\n",
    "import torch.optim as optim\n",
    "import torch.utils.data as data"
   ]
  },
  {
   "cell_type": "code",
   "execution_count": null,
   "id": "86b68d57",
   "metadata": {},
   "outputs": [],
   "source": [
    "stock_ticker_symbol = \"NVDA\" # NVIDIA Corporation (\"NVDA\")\n",
    "\n",
    "nvda = yf.Ticker(stock_ticker_symbol)\n",
    "\n",
    "# get stock info\n",
    "nvda.info"
   ]
  },
  {
   "cell_type": "code",
   "execution_count": null,
   "id": "4735647a",
   "metadata": {},
   "outputs": [],
   "source": [
    "# get historical market data\n",
    "nvda.history(period=\"max\")"
   ]
  },
  {
   "cell_type": "code",
   "execution_count": null,
   "id": "e89a0762",
   "metadata": {},
   "outputs": [],
   "source": [
    "# show actions (dividends, splits)\n",
    "nvda.actions"
   ]
  },
  {
   "cell_type": "code",
   "execution_count": null,
   "id": "09b31909",
   "metadata": {},
   "outputs": [],
   "source": [
    "# show dividends\n",
    "nvda.dividends"
   ]
  },
  {
   "cell_type": "code",
   "execution_count": null,
   "id": "763f88df",
   "metadata": {},
   "outputs": [],
   "source": [
    "# show splits\n",
    "nvda.splits"
   ]
  },
  {
   "cell_type": "markdown",
   "id": "bcdd357d",
   "metadata": {},
   "source": [
    "### 1.) What was the change in price of the stock over time?"
   ]
  },
  {
   "cell_type": "code",
   "execution_count": null,
   "id": "c6bf62f5",
   "metadata": {},
   "outputs": [],
   "source": [
    "# Fetches historical stock data for \"NVDA\"from January 1, 2020, to January 1, 2024\n",
    "stock_data = yf.download(stock_ticker_symbol, start=\"2020-01-01\", end=\"2024-01-01\")"
   ]
  },
  {
   "cell_type": "code",
   "execution_count": null,
   "id": "36bca381",
   "metadata": {},
   "outputs": [],
   "source": [
    "# Calculate daily change in Closing price\n",
    "stock_data['Daily Change'] = stock_data['Close'].diff()\n",
    "# Plotting the change in Closing price over time\n",
    "plt.figure(figsize=(14, 7))\n",
    "plt.plot(stock_data.index, stock_data['Close'], label='Close Price', color='blue')\n",
    "plt.title('Change in Stock Price over Time for {}'.format(stock_ticker_symbol))\n",
    "plt.xlabel('Date')\n",
    "plt.ylabel('Stock Price ($)')\n",
    "plt.legend()\n",
    "plt.grid(True)\n",
    "plt.show()"
   ]
  },
  {
   "cell_type": "markdown",
   "id": "a984546a",
   "metadata": {},
   "source": [
    "### 2) What was the daily return of the stock on average?"
   ]
  },
  {
   "cell_type": "code",
   "execution_count": null,
   "id": "64087f37",
   "metadata": {},
   "outputs": [],
   "source": [
    "# Calculating the average daily return of the stock \n",
    "stock_data['Daily Return'] = stock_data['Close'].pct_change() * 100\n",
    "average_daily_return = stock_data['Daily Return'].mean()"
   ]
  },
  {
   "cell_type": "code",
   "execution_count": null,
   "id": "889a6843",
   "metadata": {},
   "outputs": [],
   "source": [
    "# Plotting the average daily return of the stock \n",
    "plt.figure(figsize=(10, 6))\n",
    "plt.hist(stock_data['Daily Return'].dropna(), bins=50, edgecolor='black', alpha=0.7)\n",
    "plt.title('Daily Returns Distribution for {}'.format(stock_ticker_symbol))\n",
    "plt.xlabel('Daily Return (%)')\n",
    "plt.ylabel('Frequency')\n",
    "plt.grid(True)\n",
    "plt.show()"
   ]
  },
  {
   "cell_type": "markdown",
   "id": "47386ca0",
   "metadata": {},
   "source": [
    "This visualization reperesents the distribution of daily returns using a histogram to understand the volatility and frequency of different return values."
   ]
  },
  {
   "cell_type": "markdown",
   "id": "e2f8d36e",
   "metadata": {},
   "source": [
    "### 3) What was the moving average of the various stocks?"
   ]
  },
  {
   "cell_type": "code",
   "execution_count": null,
   "id": "e70c14e6",
   "metadata": {},
   "outputs": [],
   "source": [
    "# Calculate moving averages\n",
    "stock_data['MA_20'] = stock_data['Close'].rolling(window=20).mean()\n",
    "stock_data['MA_50'] = stock_data['Close'].rolling(window=50).mean()"
   ]
  },
  {
   "cell_type": "code",
   "execution_count": null,
   "id": "be3cb33d",
   "metadata": {},
   "outputs": [],
   "source": [
    "plt.figure(figsize=(12, 6))\n",
    "plt.plot(stock_data.index, stock_data['Close'], label='Close Price', color='blue')\n",
    "plt.plot(stock_data.index, stock_data['MA_20'], label='20-Day Moving Avg', color='red')\n",
    "plt.plot(stock_data.index, stock_data['MA_50'], label='50-Day Moving Avg', color='green')\n",
    "plt.title('Moving Averages for {}'.format(stock_ticker_symbol))\n",
    "plt.xlabel('Date')\n",
    "plt.ylabel('Price ($)')\n",
    "plt.legend()\n",
    "plt.grid(True)\n",
    "plt.show()"
   ]
  },
  {
   "cell_type": "markdown",
   "id": "28da8494",
   "metadata": {},
   "source": [
    "Calculate various moving averages (e.g., 20-day moving average, 50-day moving average) to smooth out fluctuations and observe trends in the stock prices.\n"
   ]
  },
  {
   "cell_type": "markdown",
   "id": "f9c5a781",
   "metadata": {},
   "source": [
    "### 5) How much value do we put at risk by investing in a particular stock\n",
    "\n",
    "To estimate how much value is at risk by investing in a particular stock, we can calculate the volatility or standard deviation of its daily returns. Volatility measures the variability of a stock's price over time and is a common metric used to assess risk in financial markets. \n"
   ]
  },
  {
   "cell_type": "code",
   "execution_count": null,
   "id": "8069e1dc",
   "metadata": {},
   "outputs": [],
   "source": [
    "volatility = stock_data['Daily Return'].std()\n",
    "\n",
    "print(\"Volatility (Risk) for {}: {:.2f}%\".format(stock_ticker_symbol, volatility * 100))"
   ]
  },
  {
   "cell_type": "markdown",
   "id": "94571c48",
   "metadata": {},
   "source": [
    "The volatility calculated represents the daily risk associated with the stock. Higher volatility indicates greater fluctuations in the stock price, implying higher risk. \n",
    "\n",
    "A volatility of 341.60% indicates that on average, the daily returns of NVDA fluctuate widely. This means that NVDA's stock price can experience significant swings on a daily basis. In this case, the high volatility suggests that there could be substantial gains or losses in short periods. Stocks with high volatility like NVDA may attract traders and speculators looking to capitalize on short-term price movements. However, for long-term investors, high volatility may signal higher uncertainty and potential for larger losses if not managed properly. It's also important to perform a comparative analysis, which means comparing this volatility figure across different stocks and sectors, and to integrate historical context. "
   ]
  },
  {
   "cell_type": "markdown",
   "id": "6cde4389",
   "metadata": {},
   "source": [
    "### 6) How can we attempt to predict future stock behavior? Specifically, how can we predict the closing price stock price of NVIDIA using LSTM?"
   ]
  },
  {
   "cell_type": "code",
   "execution_count": null,
   "id": "7cf8357c",
   "metadata": {},
   "outputs": [],
   "source": [
    "# Extract the closing prices\n",
    "timeseries = stock_data['Close'].values.astype('float32').reshape(-1, 1)"
   ]
  },
  {
   "cell_type": "code",
   "execution_count": null,
   "id": "f5cff3d9",
   "metadata": {},
   "outputs": [],
   "source": [
    "# train-test split for time series\n",
    "train_size = int(len(timeseries) * 0.67)\n",
    "test_size = len(timeseries) - train_size\n",
    "train, test = timeseries[:train_size], timeseries[train_size:]"
   ]
  },
  {
   "cell_type": "code",
   "execution_count": null,
   "id": "6e33ccc1",
   "metadata": {},
   "outputs": [],
   "source": [
    "def create_dataset(dataset, lookback):\n",
    "    \"\"\"Transform a time series into a prediction dataset\n",
    "    \n",
    "    Args:\n",
    "        dataset: A numpy array of time series, first dimension is the time steps\n",
    "        lookback: Size of window for prediction\n",
    "    \"\"\"\n",
    "    X, y = [], []\n",
    "    for i in range(len(dataset)-lookback):\n",
    "        feature = dataset[i:i+lookback]\n",
    "        target = dataset[i+lookback]\n",
    "        X.append(feature)\n",
    "        y.append(target)\n",
    "    return torch.tensor(X), torch.tensor(y)"
   ]
  },
  {
   "cell_type": "code",
   "execution_count": null,
   "id": "9a45bb46",
   "metadata": {},
   "outputs": [],
   "source": [
    "# Lookbook is the number of days (ex: 60) used to predict the next day\n",
    "lookback = 60  \n",
    "X_train, y_train = create_dataset(train, lookback=lookback)\n",
    "X_test, y_test = create_dataset(test, lookback=lookback)"
   ]
  },
  {
   "cell_type": "code",
   "execution_count": null,
   "id": "f7879637",
   "metadata": {},
   "outputs": [],
   "source": [
    "# Reshape input data to match LSTM expected input\n",
    "# If batch_first=True: (batch_size, sequence_length, input_size)\n",
    "# If batch_first=False (default): (sequence_length, batch_size, input_size)\n",
    "X_train = X_train.view(-1, lookback, 1)  # Reshape to (batch_size, sequence_length, input_size)\n",
    "X_test = X_test.view(-1, lookback, 1)"
   ]
  },
  {
   "cell_type": "code",
   "execution_count": null,
   "id": "72711fc3",
   "metadata": {},
   "outputs": [],
   "source": [
    "# Create DataLoader for batch processing\n",
    "train_loader = data.DataLoader(data.TensorDataset(X_train, y_train), shuffle=True, batch_size=8)"
   ]
  },
  {
   "cell_type": "code",
   "execution_count": null,
   "id": "aee18612",
   "metadata": {},
   "outputs": [],
   "source": [
    "class StockLSTM(nn.Module):\n",
    "    def __init__(self, input_size, hidden_size, output_size, num_layers=1):\n",
    "        super().__init__()\n",
    "        self.hidden_size = hidden_size\n",
    "        self.num_layers = num_layers\n",
    "        self.lstm = nn.LSTM(input_size, hidden_size, num_layers, batch_first=True)\n",
    "        self.linear = nn.Linear(hidden_size, output_size)\n",
    "    \n",
    "    def forward(self, x):\n",
    "        h0 = torch.zeros(self.num_layers, x.size(0), self.hidden_size).to(x.device)\n",
    "        c0 = torch.zeros(self.num_layers, x.size(0), self.hidden_size).to(x.device)\n",
    "        out, _ = self.lstm(x, (h0, c0))\n",
    "        out = self.linear(out[:, -1, :])\n",
    "        return out"
   ]
  },
  {
   "cell_type": "code",
   "execution_count": null,
   "id": "ca9e9671",
   "metadata": {},
   "outputs": [],
   "source": [
    "# Instantiate the model, optimizer, and loss function\n",
    "input_size = 1\n",
    "hidden_size = 50\n",
    "output_size = 1\n",
    "num_layers = 1\n",
    "\n",
    "model = StockLSTM(input_size, hidden_size, output_size, num_layers)\n",
    "optimizer = optim.Adam(model.parameters())\n",
    "criterion = nn.MSELoss()\n",
    "\n",
    "# Train the model\n",
    "n_epochs = 100\n",
    "for epoch in range(n_epochs):\n",
    "    model.train()\n",
    "    epoch_loss = 0.0\n",
    "    for inputs, targets in train_loader:\n",
    "        optimizer.zero_grad()\n",
    "        outputs = model(inputs)\n",
    "        loss = criterion(outputs, targets.unsqueeze(-1))\n",
    "        loss.backward()\n",
    "        optimizer.step()\n",
    "        epoch_loss += loss.item()\n",
    "    \n",
    "    if epoch % 10 == 0:\n",
    "        print(f'Epoch [{epoch+1}/{n_epochs}], Loss: {epoch_loss/len(train_loader):.6f}')\n",
    "\n",
    "print('Finished Training')"
   ]
  },
  {
   "cell_type": "code",
   "execution_count": null,
   "id": "bc4f5bbd",
   "metadata": {},
   "outputs": [],
   "source": [
    "# Evaluate the model and make predictions\n",
    "model.eval()\n",
    "with torch.no_grad():\n",
    "    train_pred = model(X_train).numpy()\n",
    "    test_pred = model(X_test).numpy()"
   ]
  },
  {
   "cell_type": "code",
   "execution_count": null,
   "id": "2221f433",
   "metadata": {},
   "outputs": [],
   "source": [
    "# Plot predictions\n",
    "plt.figure(figsize=(14, 7))\n",
    "plt.plot(np.arange(lookback, len(train_pred) + lookback), y_train.numpy(), label='Actual Prices (Train)', color='blue')\n",
    "plt.plot(np.arange(len(train_pred) + lookback, len(train_pred) + len(test_pred) + lookback),\n",
    "         y_test.numpy(), label='Actual Prices (Test)', color='green')\n",
    "plt.plot(np.arange(lookback, len(train_pred) + lookback), train_pred, label='Predicted Prices (Train)', color='red')\n",
    "plt.plot(np.arange(len(train_pred) + lookback, len(train_pred) + len(test_pred) + lookback),\n",
    "         test_pred, label='Predicted Prices (Test)', color='orange')\n",
    "plt.title('Stock Price Prediction for ' +  stock_ticker_symbol + ' using LSTM')\n",
    "plt.xlabel('Time')\n",
    "plt.ylabel('Stock Price ($)')\n",
    "plt.legend()\n",
    "plt.grid(True)\n",
    "plt.show()\n"
   ]
  },
  {
   "cell_type": "markdown",
   "id": "255021a0",
   "metadata": {},
   "source": [
    "### 7) Suppose we have a derivative maturing in 5 trading days, with payoff function f(x) where f is some given function and x is the closing price at maturity date. How could we use/modify our model to estimate its payoff ?"
   ]
  },
  {
   "cell_type": "markdown",
   "id": "5eed6b43",
   "metadata": {},
   "source": [
    "Use the trained LSTM model to predict the closing price x for the maturity date, which is 5 trading days from the last available date in your historical data. To calculate the payoff, we can then use the predicted closing price x as input to the payoff function f(x) to calculate the derivative's payoff. "
   ]
  },
  {
   "cell_type": "markdown",
   "id": "d5b9f784",
   "metadata": {},
   "source": [
    "### 8) How can you make Neural Network model (e.g. LSTM) more interpretable?"
   ]
  },
  {
   "cell_type": "markdown",
   "id": "f2bb7d1f",
   "metadata": {},
   "source": [
    "- We can use feature importance to determine which features have the biggest impact on predictions. \n",
    "- We can also look at how the model focuses on different parts of the input data. For example, some time periods, such as the COVID-19 pandemic, might have a different impact on the model. \n",
    "- We can experiment with changing settings, such as different parameters, to see how they effect the predictions. \n",
    "- We can perform residual analysis to pinpoint areas where the model can improve. \n",
    "- We can also take a closer at the data to pinpoint any anomalies in the time series that might be affecting the LSTM. \n",
    "\n",
    "\n",
    "To make the model interpretable for different stakeholders, we can include clear documentation and visualization tools that explain the different parts of the model, moving away from a black-box interpretation and providing clear background information. "
   ]
  },
  {
   "cell_type": "markdown",
   "id": "ea43a426",
   "metadata": {},
   "source": [
    "### Sources:\n",
    "- https://www.investopedia.com/terms/v/volatility.asp\n",
    "- https://aroussi.com/post/python-yahoo-finance\n",
    "- https://machinelearningmastery.com/lstm-for-time-series-prediction-in-pytorch/"
   ]
  }
 ],
 "metadata": {
  "kernelspec": {
   "display_name": "Python 3 (ipykernel)",
   "language": "python",
   "name": "python3"
  },
  "language_info": {
   "codemirror_mode": {
    "name": "ipython",
    "version": 3
   },
   "file_extension": ".py",
   "mimetype": "text/x-python",
   "name": "python",
   "nbconvert_exporter": "python",
   "pygments_lexer": "ipython3",
   "version": "3.9.12"
  }
 },
 "nbformat": 4,
 "nbformat_minor": 5
}
